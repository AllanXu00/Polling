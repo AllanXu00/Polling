{
 "cells": [
  {
   "cell_type": "code",
   "execution_count": 79,
   "metadata": {},
   "outputs": [],
   "source": [
    "from solana.rpc.api import Client\n",
    "from solana.publickey import PublicKey\n",
    "import time\n",
    "import base64\n",
    "from ordered_set import OrderedSet"
   ]
  },
  {
   "cell_type": "code",
   "execution_count": 96,
   "metadata": {},
   "outputs": [],
   "source": [
    "client = Client(\"https://api.mainnet-beta.solana.com\")\n",
    "EVENT_QUEUE = PublicKey(\"FTtrtEkcJaa84FRBwp7w5fUypBwvMsbNvS3KUD1HL97c\")\n",
    "\n",
    "messages = dict()\n",
    "seen = OrderedSet()"
   ]
  },
  {
   "cell_type": "code",
   "execution_count": 97,
   "metadata": {},
   "outputs": [],
   "source": [
    "# Event Queue Heading Parsing\n",
    "class EventQueueHeader: \n",
    "    def __init__(self, bytes):\n",
    "        self.account_flags = int.from_bytes(bytes[0:8], \"little\")\n",
    "        self.head = int.from_bytes(bytes[8:16], \"little\")\n",
    "        self.count = int.from_bytes(bytes[16:24], \"little\")\n",
    "        self.seq_num = int.from_bytes(bytes[24:32], \"little\")\n",
    "    def __str__(self):\n",
    "        return (\n",
    "            \"Account Flags: \" + str(self.account_flags) + \"\\n\" +\n",
    "            \"Head: \" + str(self.head) + \"\\n\" +\n",
    "            \"Count: \" + str(self.count) + \"\\n\" + \n",
    "            \"Sequence Number: \" + str(self.seq_num) + \"\\n\" \n",
    "        )"
   ]
  },
  {
   "cell_type": "code",
   "execution_count": 98,
   "metadata": {},
   "outputs": [],
   "source": [
    "class Event:\n",
    "    def __init__(self, bytes):\n",
    "        self.event_flags = int.from_bytes(bytes[0:1], \"little\")\n",
    "        self.owner_slot = int.from_bytes(bytes[1:2], \"little\")\n",
    "        self.fee_tier = int.from_bytes(bytes[2:3], \"little\")\n",
    "        padding = []\n",
    "        for i in range(5):\n",
    "            padding.append(int.from_bytes(bytes[3+i:4+i], \"little\"))\n",
    "        self._padding = padding\n",
    "        self.native_quantity_released = int.from_bytes(bytes[8:16], \"little\")\n",
    "        self.native_quantity_paid = int.from_bytes(bytes[16:24], \"little\")\n",
    "        self.native_fee_or_rebate = int.from_bytes(bytes[24:32], \"little\")\n",
    "        self.order_id = int.from_bytes(bytes[32:48], \"little\")\n",
    "        self.owner = PublicKey(bytes[48:80])\n",
    "        self.client_order_id = int.from_bytes(bytes[80:], \"little\")\n",
    "    def __str__(self):\n",
    "        return (\n",
    "            \"Event Flags: \" + str(self.event_flags) + \"\\n\" + \n",
    "            \"Owner Slot: \" + str(self.owner_slot) + \"\\n\" + \n",
    "            \"Fee Tier: \" + str(self.fee_tier) + \"\\n\" + \n",
    "            \"Padding: \" + ', '.join(str(item) for item in self._padding) + \"\\n\" + \n",
    "            \"Native Quantity Released: \" + str(self.native_quantity_released) + \"\\n\" +\n",
    "            \"Native Quantity Paid: \" + str(self.native_quantity_paid) + \"\\n\" + \n",
    "            \"Native Fee or Rebate: \" + str(self.native_fee_or_rebate) + \"\\n\" + \n",
    "            \"Order ID: \" + str(self.native_fee_or_rebate) + \"\\n\" + \n",
    "            \"Owner: \" + ', '.join(str(item) for item in self.owner) + \"\\n\" + \n",
    "            \"Client Order ID: \" + str(self.client_order_id) + \"\\n\"\n",
    "        )"
   ]
  },
  {
   "cell_type": "code",
   "execution_count": 99,
   "metadata": {},
   "outputs": [],
   "source": [
    "class EventAccount:\n",
    "    def __init__(self, bytes):\n",
    "        bytes_without_padding = bytes[5:-7]\n",
    "        header_bytes = bytes_without_padding[0:32]\n",
    "        events_bytes = bytes_without_padding[32:]\n",
    "        self.event_queue_header = EventQueueHeader(header_bytes)\n",
    "        self.events = []\n",
    "        for i in range(self.event_queue_header.count):\n",
    "            starting_index, ending_index = \\\n",
    "                self.event_to_byte_index(self.event_queue_header.head + i)\n",
    "            self.events.append(Event(\n",
    "                events_bytes[starting_index:ending_index]\n",
    "            ))\n",
    "            \n",
    "    def event_to_byte_index(self, event_index):\n",
    "        starting_index = event_index * 88\n",
    "        ending_index = starting_index + 88\n",
    "        return (starting_index, ending_index)\n",
    "    \n",
    "    def print_overview(self):\n",
    "        print(self.event_queue_header)\n",
    "        \n",
    "    def print_events(self):\n",
    "        for i in range(self.event_queue_header.count):\n",
    "            print(\"------------ Event Number\", i+1, \"----------\")\n",
    "            print(self.events[i])"
   ]
  },
  {
   "cell_type": "code",
   "execution_count": 100,
   "metadata": {},
   "outputs": [],
   "source": [
    "def process_event(event, wallet_to_volume):\n",
    "    if event.owner not in wallet_to_volume:\n",
    "        wallet_to_volume[event.owner] = 0\n",
    "    if event.event_flags % 2 == 1:\n",
    "        wallet_to_volume[event.owner] += event.native_quantity_paid\n",
    "        wallet_to_volume[event.owner] += event.native_quantity_released"
   ]
  },
  {
   "cell_type": "code",
   "execution_count": 101,
   "metadata": {},
   "outputs": [],
   "source": [
    "for idx in range(200):\n",
    "    account_info = client.get_account_info(EVENT_QUEUE)\n",
    "    account_data_raw = base64.b64decode(account_info['result']['value']['data'][0])\n",
    "    assert len(account_data_raw) == 262156\n",
    "    if account_data_raw not in seen:\n",
    "        messages[idx] = account_data_raw\n",
    "        seen.add(account_data_raw)\n",
    "    time.sleep(2)"
   ]
  },
  {
   "cell_type": "code",
   "execution_count": 102,
   "metadata": {},
   "outputs": [],
   "source": [
    "parsed_accounts = []\n",
    "for raw_account in seen:\n",
    "    parsed_accounts.append(EventAccount(raw_account))"
   ]
  },
  {
   "cell_type": "code",
   "execution_count": 107,
   "metadata": {},
   "outputs": [
    {
     "name": "stdout",
     "output_type": "stream",
     "text": [
      "Account Flags: 17\n",
      "Head: 236\n",
      "Count: 1\n",
      "Sequence Number: 339729\n",
      "\n",
      "Account Flags: 17\n",
      "Head: 238\n",
      "Count: 0\n",
      "Sequence Number: 339730\n",
      "\n",
      "Account Flags: 17\n",
      "Head: 239\n",
      "Count: 0\n",
      "Sequence Number: 339731\n",
      "\n",
      "Account Flags: 17\n",
      "Head: 241\n",
      "Count: 0\n",
      "Sequence Number: 339733\n",
      "\n",
      "Account Flags: 17\n",
      "Head: 241\n",
      "Count: 1\n",
      "Sequence Number: 339734\n",
      "\n",
      "Account Flags: 17\n",
      "Head: 243\n",
      "Count: 0\n",
      "Sequence Number: 339735\n",
      "\n",
      "Account Flags: 17\n",
      "Head: 243\n",
      "Count: 1\n",
      "Sequence Number: 339736\n",
      "\n",
      "Account Flags: 17\n",
      "Head: 244\n",
      "Count: 0\n",
      "Sequence Number: 339736\n",
      "\n",
      "Account Flags: 17\n",
      "Head: 244\n",
      "Count: 1\n",
      "Sequence Number: 339737\n",
      "\n",
      "Account Flags: 17\n",
      "Head: 246\n",
      "Count: 1\n",
      "Sequence Number: 339739\n",
      "\n",
      "Account Flags: 17\n",
      "Head: 247\n",
      "Count: 0\n",
      "Sequence Number: 339739\n",
      "\n",
      "Account Flags: 17\n",
      "Head: 248\n",
      "Count: 0\n",
      "Sequence Number: 339740\n",
      "\n",
      "Account Flags: 17\n",
      "Head: 249\n",
      "Count: 0\n",
      "Sequence Number: 339741\n",
      "\n",
      "Account Flags: 17\n",
      "Head: 249\n",
      "Count: 1\n",
      "Sequence Number: 339742\n",
      "\n",
      "Account Flags: 17\n",
      "Head: 249\n",
      "Count: 2\n",
      "Sequence Number: 339743\n",
      "\n",
      "Account Flags: 17\n",
      "Head: 251\n",
      "Count: 0\n",
      "Sequence Number: 339743\n",
      "\n"
     ]
    }
   ],
   "source": [
    "len(parsed_accounts)\n",
    "for parsed_account in parsed_accounts:\n",
    "    parsed_account.print_overview()"
   ]
  },
  {
   "cell_type": "code",
   "execution_count": 110,
   "metadata": {},
   "outputs": [
    {
     "name": "stdout",
     "output_type": "stream",
     "text": [
      "The current head, next head, and difference are 236 238 2\n",
      "The current head, next head, and difference are 238 239 1\n",
      "The current head, next head, and difference are 239 241 2\n",
      "The current head, next head, and difference are 241 243 2\n",
      "The current head, next head, and difference are 243 244 1\n",
      "The current head, next head, and difference are 244 246 2\n",
      "The current head, next head, and difference are 246 247 1\n",
      "The current head, next head, and difference are 247 248 1\n",
      "The current head, next head, and difference are 248 249 1\n",
      "The current head, next head, and difference are 249 251 2\n",
      "{H19Y4fn2W5baqsXrnJcMwmJkcHVTVyiUAhAKMok5W2Zm: 0}\n"
     ]
    }
   ],
   "source": [
    "num_parsed_accounts = len(parsed_accounts)\n",
    "wallet_to_volume = {}\n",
    "for i in range(num_parsed_accounts - 1):\n",
    "    current_head = parsed_accounts[i].event_queue_header.head\n",
    "    next_head = parsed_accounts[i+1].event_queue_header.head\n",
    "    if current_head < next_head:\n",
    "        difference = next_head - current_head \n",
    "    elif current_head == next_head:\n",
    "        continue    \n",
    "    else:\n",
    "        difference = next_head + 2978 - current_head\n",
    "    print(\"The current head, next head, and difference are\", current_head, next_head, difference)\n",
    "    \n",
    "    current_count = parsed_accounts[i].event_queue_header.count\n",
    "    for j in range(min(difference, current_count)):\n",
    "        process_event(parsed_accounts[i].events[j], wallet_to_volume)\n",
    "print(wallet_to_volume)"
   ]
  },
  {
   "cell_type": "markdown",
   "metadata": {},
   "source": [
    "Next Steps\n",
    "1. Look for better examples on SolScan "
   ]
  },
  {
   "cell_type": "code",
   "execution_count": 116,
   "metadata": {},
   "outputs": [],
   "source": [
    "class OpenOrdersAccount: \n",
    "    def __init__(self, bytes):\n",
    "        # Remove \"serum\" and \"padding\"\n",
    "        bytes = bytes[5:-7]\n",
    "        self.account_flags = int.from_bytes(bytes[0:8], \"little\")\n",
    "        self.market = []\n",
    "        for i in range(32):\n",
    "            self.market.append(int.from_bytes(bytes[8+i:9+i], \"little\"))\n",
    "        self.owner = PublicKey(bytes[48:72])\n",
    "        self.native_base_free = int.from_bytes(bytes[72:80], \"little\")\n",
    "        self.native_base_total = int.from_bytes(bytes[80:88], \"little\")\n",
    "        self.native_quote_free = int.from_bytes(bytes[88:96], \"little\")\n",
    "        self.native_quote_total = int.from_bytes(bytes[96:104], \"little\")\n",
    "        self.free_slot_bits = int.from_bytes(bytes[104:120], \"little\")\n",
    "        self.is_bid_bits = int.from_bytes(bytes[120:136], \"little\")\n",
    "        self.orders = []\n",
    "        for i in range(128):\n",
    "            starting_index = 136 + i*16\n",
    "            ending_index = 136 + (i + 1) * 16\n",
    "            self.orders.append(\n",
    "                int.from_bytes(bytes[starting_index:ending_index], \"little\")\n",
    "            )\n",
    "        self.client_order_ids = []\n",
    "        for i in range(128):\n",
    "            starting_index = 2184 + i*8\n",
    "            ending_index = 2184 + (i + 1) * 8\n",
    "            self.orders.append(\n",
    "                int.from_bytes(bytes[starting_index:ending_index], \"little\")\n",
    "            )\n",
    "        self.referrer_rebates_accrued = int.from_bytes(bytes[3208:3216], \"little\")\n",
    "    def get_owner(self):\n",
    "        return self.owner"
   ]
  },
  {
   "cell_type": "code",
   "execution_count": 119,
   "metadata": {},
   "outputs": [
    {
     "data": {
      "text/plain": [
       "11111111Pd7FWUZjgVJZbSp4UwXNge9UcSvJYpEUd"
      ]
     },
     "execution_count": 119,
     "metadata": {},
     "output_type": "execute_result"
    }
   ],
   "source": [
    "open_orders = PublicKey(\"H19Y4fn2W5baqsXrnJcMwmJkcHVTVyiUAhAKMok5W2Zm\")\n",
    "account_info = client.get_account_info(open_orders)\n",
    "account_data_raw = base64.b64decode(account_info['result']['value']['data'][0])\n",
    "open_orders_account = OpenOrdersAccount(account_data_raw)\n",
    "open_orders_account.get_owner()"
   ]
  },
  {
   "cell_type": "code",
   "execution_count": null,
   "metadata": {},
   "outputs": [],
   "source": []
  }
 ],
 "metadata": {
  "kernelspec": {
   "display_name": "Python 3",
   "language": "python",
   "name": "python3"
  },
  "language_info": {
   "codemirror_mode": {
    "name": "ipython",
    "version": 3
   },
   "file_extension": ".py",
   "mimetype": "text/x-python",
   "name": "python",
   "nbconvert_exporter": "python",
   "pygments_lexer": "ipython3",
   "version": "3.7.0"
  }
 },
 "nbformat": 4,
 "nbformat_minor": 2
}
