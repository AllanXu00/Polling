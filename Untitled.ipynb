{
 "cells": [
  {
   "cell_type": "markdown",
   "metadata": {},
   "source": [
    "------------ RELEVANT LOGS ----------\n",
    "\n",
    "I0610 07:30:17.958847 105989 Gateway.cpp:1618] received active orders response total=37 valid=37 invalid=0 recentDeaths=1 maxTotalAllowed=200forder\n",
    "\n",
    "I0610 07:30:17.999764 105989 Market.cpp:386] consumable events slot=137035226 symbol=BTCUSDT eventQueue=FERWWtsZoSLcHVpfDnEBnUqHv4757kTUUZhLKBCbNfpS count=4\n",
    "\n",
    "I0610 07:30:17.999777 105989 SERMConnection.cpp:1654] commitment=confirmed fill event seqNum=37582374 slot=137035226 orderId=5539870839984231388707239 owner=CmFyxKyGG9x9jro7QqRAo6ejEg4QJNboqmgAvpCQ74hG clientId=1654864037833589294 price=3003160000000 qty=800000000 isBid=1 currency=BTCUSDT\n",
    "\n",
    "I0610 07:30:17.999799 105989 Gateway.cpp:3056] receiving a fill for orderId=63002 stratId=16901 tradeId=37582374 clientId=1654864037833589294 exchangeId= flavor=2 price=30031.6 fillQty=8 remainingQty=0 qty=8 side=Buy trimmedQty=0 rawPrice=3003160000000 rawFillQty=800000000 rawRemainingQty=0 rawQty=800000000 contracts=0 remainingContracts=0 hasFee=true fee=0 currency=BTCUSDT feeCurrency=USDT exchange=Serum orderType=(exchange limit) totalFill=800000000 totalFillUpdated=800000000 isAggressor=false stratInstance=de40c4ee-4338-44f4-9c94-be446bac01ed\n",
    "\n",
    "I0610 07:30:17.999825 105989 Gateway.cpp:3852] erasing order orderId=63002 stratId=16901 clientId=1654864037833589294 exchangeId= riskPoolId=-1 price=3003160000000 qty=800000000 side=Buy currency=BTCUSDT\n",
    "\n",
    "I0610 07:30:17.999839 105989 SERMConnection.cpp:1680] commitment=confirmed out event seqNum=37582375 slot=137035226 orderId=5539870839984231388707239 owner=CmFyxKyGG9x9jro7QqRAo6ejEg4QJNboqmgAvpCQ74hG clientId=1654864037833589294 \n",
    "cancelledQty=0 remainingQty=0 isBid=1 releaseFunds=1 currency=BTCUSDT\n",
    "\n",
    "I0610 07:30:17.999851 105989 SERMConnection.cpp:1654] commitment=confirmed fill event seqNum=37582376 slot=137035226 orderId=5537786357903902257284766 owner=cwZmnbvcFr4nL7bhmqqcuxNzmKtdG6Te17ZLcRsj4xv\n",
    "clientId=15297002799436015490 price=3003160000000 qty=800000000 isBid=0 currency=BTCUSDT\n",
    "\n",
    "I0610 07:30:17.999871 105989 SERMConnection.cpp:1680] commitment=confirmed out event seqNum=37582377 slot=137035226 orderId=5537786357903902257284766 owner=cwZmnbvcFr4nL7bhmqqcuxNzmKtdG6Te17ZLcRsj4xv clientId=15297002799436015490 cancelledQty=9200000000 remainingQty=0 isBid=0 releaseFunds=0 currency=BTCUSDT"
   ]
  },
  {
   "cell_type": "markdown",
   "metadata": {},
   "source": [
    "------------ RELEVANT Questions ----------\n",
    "1. Who was the aggressor?\n",
    "2. What was their behavior for sending the aggressive order?\n",
    "3. How many cancels actually landed (were any duplicates that didn't effectively increase our chances at getting the cancel through?)  I think we sent something like 4 or 8 cancels, we should see four failed transactions I would think..."
   ]
  },
  {
   "cell_type": "code",
   "execution_count": 2,
   "metadata": {},
   "outputs": [],
   "source": [
    "from solana.rpc.api import Client\n",
    "from solana.publickey import PublicKey\n",
    "import base64\n",
    "client = Client(\"https://extend.mainnet.rpcpool.com/30af34cbb7f1e44cf8776c7ecae8\")"
   ]
  },
  {
   "cell_type": "code",
   "execution_count": 3,
   "metadata": {},
   "outputs": [],
   "source": [
    "class EventQueueHeader: \n",
    "    def __init__(self, bytes):\n",
    "        self.account_flags = int.from_bytes(bytes[0:8], \"little\")\n",
    "        self.head = int.from_bytes(bytes[8:16], \"little\")\n",
    "        self.count = int.from_bytes(bytes[16:24], \"little\")\n",
    "        self.seq_num = int.from_bytes(bytes[24:32], \"little\")\n",
    "    def __str__(self):\n",
    "        return (\n",
    "            \"Account Flags: \" + str(self.account_flags) + \"\\n\" +\n",
    "            \"Head: \" + str(self.head) + \"\\n\" +\n",
    "            \"Count: \" + str(self.count) + \"\\n\" + \n",
    "            \"Sequence Number: \" + str(self.seq_num) + \"\\n\" \n",
    "        )\n",
    "\n",
    "class Event:\n",
    "    def __init__(self, bytes):\n",
    "        self.event_flags = int.from_bytes(bytes[0:1], \"little\")\n",
    "        self.owner_slot = int.from_bytes(bytes[1:2], \"little\")\n",
    "        self.fee_tier = int.from_bytes(bytes[2:3], \"little\")\n",
    "        padding = []\n",
    "        for i in range(5):\n",
    "            padding.append(int.from_bytes(bytes[3+i:4+i], \"little\"))\n",
    "        self._padding = padding\n",
    "        self.native_quantity_released = int.from_bytes(bytes[8:16], \"little\")\n",
    "        self.native_quantity_paid = int.from_bytes(bytes[16:24], \"little\")\n",
    "        self.native_fee_or_rebate = int.from_bytes(bytes[24:32], \"little\")\n",
    "        self.order_id = int.from_bytes(bytes[32:48], \"little\")\n",
    "        self.owner = PublicKey(bytes[48:80]).__str__()\n",
    "        self.client_order_id = int.from_bytes(bytes[80:], \"little\")\n",
    "    def __str__(self):\n",
    "        return (\n",
    "            \"Event Flags: \" + str(self.event_flags) + \"\\n\" + \n",
    "            \"Owner Slot: \" + str(self.owner_slot) + \"\\n\" + \n",
    "            \"Fee Tier: \" + str(self.fee_tier) + \"\\n\" + \n",
    "            \"Padding: \" + ', '.join(str(item) for item in self._padding) + \"\\n\" + \n",
    "            \"Native Quantity Released: \" + str(self.native_quantity_released) + \"\\n\" +\n",
    "            \"Native Quantity Paid: \" + str(self.native_quantity_paid) + \"\\n\" + \n",
    "            \"Native Fee or Rebate: \" + str(self.native_fee_or_rebate) + \"\\n\" + \n",
    "            \"Order ID: \" + str(self.native_fee_or_rebate) + \"\\n\" + \n",
    "            \"Owner: \" + str(self.owner) + \"\\n\" + \n",
    "            \"Client Order ID: \" + str(self.client_order_id) + \"\\n\"\n",
    "        )\n",
    "\n",
    "class EventAccount:\n",
    "    def __init__(self, bytes):\n",
    "        bytes_without_padding = bytes[5:-7]\n",
    "        header_bytes = bytes_without_padding[0:32]\n",
    "        events_bytes = bytes_without_padding[32:]\n",
    "        self.event_queue_header = EventQueueHeader(header_bytes)\n",
    "        self.events = []\n",
    "        for i in range(self.event_queue_header.count):\n",
    "            starting_index = ((self.event_queue_header.head + i) % 2978) * 88\n",
    "            ending_index = (starting_index + 88) \n",
    "            self.events.append(Event(\n",
    "                events_bytes[starting_index:ending_index]\n",
    "            ))\n",
    "            \n",
    "    def print_overview(self):\n",
    "        print(self.event_queue_header)\n",
    "        print(\"Number of Events\", len(self.events))\n",
    "        \n",
    "    def print_events(self):\n",
    "        for i in range(self.event_queue_header.count):\n",
    "            print(\"------------ Event Number\", i+1, \"----------\")\n",
    "            print(self.events[i])"
   ]
  },
  {
   "cell_type": "code",
   "execution_count": 4,
   "metadata": {},
   "outputs": [],
   "source": [
    "# https://solscan.io/account/FERWWtsZoSLcHVpfDnEBnUqHv4757kTUUZhLKBCbNfpS\n",
    "EVENT_QUEUE = PublicKey(\"FERWWtsZoSLcHVpfDnEBnUqHv4757kTUUZhLKBCbNfpS\")\n",
    "event_queue = client.get_account_info(EVENT_QUEUE)"
   ]
  },
  {
   "cell_type": "code",
   "execution_count": null,
   "metadata": {},
   "outputs": [],
   "source": []
  },
  {
   "cell_type": "code",
   "execution_count": 14,
   "metadata": {},
   "outputs": [
    {
     "name": "stdout",
     "output_type": "stream",
     "text": [
      "Account Flags: 17\n",
      "Head: 10890\n",
      "Count: 0\n",
      "Sequence Number: 37662290\n",
      "\n",
      "Number of Events 0\n"
     ]
    }
   ],
   "source": [
    "raw_data = base64.b64decode(event_queue['result']['value']['data'][0])\n",
    "event_queue_account = EventAccount(raw_data)\n",
    "event_queue_account.print_overview()"
   ]
  },
  {
   "cell_type": "code",
   "execution_count": 20,
   "metadata": {},
   "outputs": [],
   "source": [
    "class OpenOrdersAccount: \n",
    "    def __init__(self, bytes):\n",
    "        # Remove \"serum\" and \"padding\"\n",
    "        bytes = bytes[5:-7]\n",
    "        self.account_flags = int.from_bytes(bytes[0:8], \"little\")\n",
    "        self.market = []\n",
    "        for i in range(32):\n",
    "            self.market.append(int.from_bytes(bytes[8+i:9+i], \"little\"))\n",
    "        self.owner = PublicKey(bytes[40:72]).__str__()\n",
    "        self.native_base_free = int.from_bytes(bytes[72:80], \"little\")\n",
    "        self.native_base_total = int.from_bytes(bytes[80:88], \"little\")\n",
    "        self.native_quote_free = int.from_bytes(bytes[88:96], \"little\")\n",
    "        self.native_quote_total = int.from_bytes(bytes[96:104], \"little\")\n",
    "        self.free_slot_bits = int.from_bytes(bytes[104:120], \"little\")\n",
    "        self.is_bid_bits = int.from_bytes(bytes[120:136], \"little\")\n",
    "        self.orders = []\n",
    "        for i in range(128):\n",
    "            starting_index = 136 + i*16\n",
    "            ending_index = 136 + (i + 1) * 16\n",
    "            self.orders.append(\n",
    "                int.from_bytes(bytes[starting_index:ending_index], \"little\")\n",
    "            )\n",
    "        self.client_order_ids = []\n",
    "        for i in range(128):\n",
    "            starting_index = 2184 + i*8\n",
    "            ending_index = 2184 + (i + 1) * 8\n",
    "            self.orders.append(\n",
    "                int.from_bytes(bytes[starting_index:ending_index], \"little\")\n",
    "            )\n",
    "        self.referrer_rebates_accrued = int.from_bytes(bytes[3208:3216], \"little\")\n",
    "        \n",
    "    def __str__(self):\n",
    "        return (\n",
    "            \"Accounts Flags: \" + str(self.account_flags) + \"\\n\" + \n",
    "            \"Market: \" + ', '.join(str(item) for item in self.market) + \"\\n\" + \n",
    "            \"Owner: \" + str(self.owner) + \"\\n\" + \n",
    "            \"Native Base Free: \" + str(self.native_base_free) + \"\\n\" + \n",
    "            \"Native Base Total: \" + str(self.native_base_total) + \"\\n\" + \n",
    "            \"Native Quote Free: \" + str(self.native_quote_free) + \"\\n\" + \n",
    "            \"Native Quote Total: \" + str(self.native_quote_total) + \"\\n\" + \n",
    "            \"Free Slot Bits: \" + str(self.free_slot_bits) + \"\\n\" + \n",
    "            \"Is Bid Bits: \" + str(self.is_bid_bits) + \"\\n\" + \n",
    "            \"Orders: \" + ', '.join(str(item) for item in self.orders) + \"\\n\" + \n",
    "            \"Client Order IDs: \" + ', '.join(str(item) for item in self.client_order_ids) + \"\\n\" +\n",
    "            \"Referer Rebates Accrued: \" + str(self.referrer_rebates_accrued)\n",
    "        )\n",
    "    \n",
    "    def get_owner(self):\n",
    "        return self.owner\n",
    "    \n",
    "    def toJSON(self):\n",
    "        return json.dumps(self, default=lambda o: o.__dict__, \n",
    "            sort_keys=True, indent=4)"
   ]
  },
  {
   "cell_type": "code",
   "execution_count": 30,
   "metadata": {},
   "outputs": [],
   "source": [
    "OPEN_ORDERS = 'cwZmnbvcFr4nL7bhmqqcuxNzmKtdG6Te17ZLcRsj4xv'\n",
    "open_orders = client.get_account_info(OPEN_ORDERS)\n",
    "raw_data = base64.b64decode(open_orders['result']['value']['data'][0])\n",
    "open_orders_account = OpenOrdersAccount(raw_data)"
   ]
  },
  {
   "cell_type": "code",
   "execution_count": 31,
   "metadata": {
    "scrolled": true
   },
   "outputs": [
    {
     "name": "stdout",
     "output_type": "stream",
     "text": [
      "Accounts Flags: 5\n",
      "Market: 163, 128, 71, 33, 202, 7, 215, 159, 7, 68, 163, 139, 48, 219, 239, 163, 190, 186, 40, 188, 86, 246, 5, 23, 131, 236, 204, 14, 219, 39, 47, 201\n",
      "Owner: CuieVDEDtLo7FypA9SbLM9saXFdb1dsshEkyErMqkRQq\n",
      "Native Base Free: 8884700\n",
      "Native Base Total: 10399300\n",
      "Native Quote Free: 164986701281\n",
      "Native Quote Total: 198958530811\n",
      "Free Slot Bits: 340282366920938463463374607431768211083\n",
      "Is Bid Bits: 36\n",
      "Orders: 0, 0, 4008219232800053608423723, 0, 4147824191949887543074784, 4059445841092745033261078, 4146920301490275775045602, 0, 4435667186476051386490177, 0, 0, 0, 0, 0, 0, 0, 0, 0, 0, 0, 0, 0, 0, 0, 0, 0, 0, 0, 0, 0, 0, 0, 0, 0, 0, 0, 0, 0, 0, 0, 0, 0, 0, 0, 0, 0, 0, 0, 0, 0, 0, 0, 0, 0, 0, 0, 0, 0, 0, 0, 0, 0, 0, 0, 0, 0, 0, 0, 0, 0, 0, 0, 0, 0, 0, 0, 0, 0, 0, 0, 0, 0, 0, 0, 0, 0, 0, 0, 0, 0, 0, 0, 0, 0, 0, 0, 0, 0, 0, 0, 0, 0, 0, 0, 0, 0, 0, 0, 0, 0, 0, 0, 0, 0, 0, 0, 0, 0, 0, 0, 0, 0, 0, 0, 0, 0, 0, 0, 0, 0, 14066572719326417544, 0, 14996186767217058248, 12465472597903283144, 16705374170932496776, 0, 17963746563726755976, 0, 0, 0, 0, 0, 0, 0, 0, 0, 0, 0, 0, 0, 0, 0, 0, 0, 0, 0, 0, 0, 0, 0, 0, 0, 0, 0, 0, 0, 0, 0, 0, 0, 0, 0, 0, 0, 0, 0, 0, 0, 0, 0, 0, 0, 0, 0, 0, 0, 0, 0, 0, 0, 0, 0, 0, 0, 0, 0, 0, 0, 0, 0, 0, 0, 0, 0, 0, 0, 0, 0, 0, 0, 0, 0, 0, 0, 0, 0, 0, 0, 0, 0, 0, 0, 0, 0, 0, 0, 0, 0, 0, 0, 0, 0, 0, 0, 0, 0, 0, 0, 0, 0, 0, 0, 0, 0, 0, 0, 0, 0, 0, 0, 0, 0, 0, 0, 0, 0\n",
      "Client Order IDs: \n",
      "Referer Rebates Accrued: 133\n"
     ]
    }
   ],
   "source": [
    "print(open_orders_account)"
   ]
  },
  {
   "cell_type": "code",
   "execution_count": 32,
   "metadata": {},
   "outputs": [
    {
     "name": "stdout",
     "output_type": "stream",
     "text": [
      "CuieVDEDtLo7FypA9SbLM9saXFdb1dsshEkyErMqkRQq\n"
     ]
    }
   ],
   "source": [
    "print(open_orders_account.owner)"
   ]
  },
  {
   "cell_type": "code",
   "execution_count": 28,
   "metadata": {},
   "outputs": [],
   "source": [
    "# Jumps Open Order Account \n",
    "OPEN_ORDERS = 'CmFyxKyGG9x9jro7QqRAo6ejEg4QJNboqmgAvpCQ74hG'\n",
    "open_orders = client.get_account_info(OPEN_ORDERS)\n",
    "raw_data = base64.b64decode(open_orders['result']['value']['data'][0])\n",
    "open_orders_account = OpenOrdersAccount(raw_data)"
   ]
  },
  {
   "cell_type": "code",
   "execution_count": 29,
   "metadata": {
    "scrolled": true
   },
   "outputs": [
    {
     "name": "stdout",
     "output_type": "stream",
     "text": [
      "Accounts Flags: 5\n",
      "Market: 163, 128, 71, 33, 202, 7, 215, 159, 7, 68, 163, 139, 48, 219, 239, 163, 190, 186, 40, 188, 86, 246, 5, 23, 131, 236, 204, 14, 219, 39, 47, 201\n",
      "Owner: 5xoBq7f7CDgZwqHrDBdRWM84ExRetg4gZq93dyJtoSwp\n",
      "Native Base Free: 0\n",
      "Native Base Total: 11000000\n",
      "Native Quote Free: 0\n",
      "Native Quote Total: 230423600000\n",
      "Free Slot Bits: 340282366920938463463374607431768211450\n",
      "Is Bid Bits: 1\n",
      "Orders: 3864168608328455719857630, 0, 4017903773438751171039755, 0, 0, 0, 0, 0, 0, 0, 0, 0, 0, 0, 0, 0, 0, 0, 0, 0, 0, 0, 0, 0, 0, 0, 0, 0, 0, 0, 0, 0, 0, 0, 0, 0, 0, 0, 0, 0, 0, 0, 0, 0, 0, 0, 0, 0, 0, 0, 0, 0, 0, 0, 0, 0, 0, 0, 0, 0, 0, 0, 0, 0, 0, 0, 0, 0, 0, 0, 0, 0, 0, 0, 0, 0, 0, 0, 0, 0, 0, 0, 0, 0, 0, 0, 0, 0, 0, 0, 0, 0, 0, 0, 0, 0, 0, 0, 0, 0, 0, 0, 0, 0, 0, 0, 0, 0, 0, 0, 0, 0, 0, 0, 0, 0, 0, 0, 0, 0, 0, 0, 0, 0, 0, 0, 0, 0, 1655309517429883313, 0, 1655309298951045349, 0, 0, 0, 0, 0, 0, 0, 0, 0, 0, 0, 0, 0, 0, 0, 0, 0, 0, 0, 0, 0, 0, 0, 0, 0, 0, 0, 0, 0, 0, 0, 0, 0, 0, 0, 0, 0, 0, 0, 0, 0, 0, 0, 0, 0, 0, 0, 0, 0, 0, 0, 0, 0, 0, 0, 0, 0, 0, 0, 0, 0, 0, 0, 0, 0, 0, 0, 0, 0, 0, 0, 0, 0, 0, 0, 0, 0, 0, 0, 0, 0, 0, 0, 0, 0, 0, 0, 0, 0, 0, 0, 0, 0, 0, 0, 0, 0, 0, 0, 0, 0, 0, 0, 0, 0, 0, 0, 0, 0, 0, 0, 0, 0, 0, 0, 0, 0, 0, 0, 0, 0, 0, 0, 0, 0\n",
      "Client Order IDs: \n",
      "Referer Rebates Accrued: 0\n"
     ]
    }
   ],
   "source": [
    "print(open_orders_account)"
   ]
  },
  {
   "cell_type": "code",
   "execution_count": null,
   "metadata": {},
   "outputs": [],
   "source": []
  }
 ],
 "metadata": {
  "kernelspec": {
   "display_name": "Python 3",
   "language": "python",
   "name": "python3"
  },
  "language_info": {
   "codemirror_mode": {
    "name": "ipython",
    "version": 3
   },
   "file_extension": ".py",
   "mimetype": "text/x-python",
   "name": "python",
   "nbconvert_exporter": "python",
   "pygments_lexer": "ipython3",
   "version": "3.7.0"
  }
 },
 "nbformat": 4,
 "nbformat_minor": 2
}
