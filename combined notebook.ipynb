{
 "cells": [
  {
   "cell_type": "code",
   "execution_count": 5,
   "metadata": {},
   "outputs": [],
   "source": [
    "import ordered_set\n",
    "from solana.rpc.api import Client\n",
    "from solana.publickey import PublicKey\n",
    "import time\n",
    "import base64\n",
    "import argparse"
   ]
  },
  {
   "cell_type": "code",
   "execution_count": 6,
   "metadata": {},
   "outputs": [],
   "source": [
    "# open_orders.py\n",
    "class OpenOrdersAccount: \n",
    "    def __init__(self, bytes):\n",
    "        # Remove \"serum\" and \"padding\"\n",
    "        bytes = bytes[5:-7]\n",
    "        self.account_flags = int.from_bytes(bytes[0:8], \"little\")\n",
    "        self.market = []\n",
    "        for i in range(32):\n",
    "            self.market.append(int.from_bytes(bytes[8+i:9+i], \"little\"))\n",
    "        self.owner = PublicKey(bytes[48:72])\n",
    "        self.native_base_free = int.from_bytes(bytes[72:80], \"little\")\n",
    "        self.native_base_total = int.from_bytes(bytes[80:88], \"little\")\n",
    "        self.native_quote_free = int.from_bytes(bytes[88:96], \"little\")\n",
    "        self.native_quote_total = int.from_bytes(bytes[96:104], \"little\")\n",
    "        self.free_slot_bits = int.from_bytes(bytes[104:120], \"little\")\n",
    "        self.is_bid_bits = int.from_bytes(bytes[120:136], \"little\")\n",
    "        self.orders = []\n",
    "        for i in range(128):\n",
    "            starting_index = 136 + i*16\n",
    "            ending_index = 136 + (i + 1) * 16\n",
    "            self.orders.append(\n",
    "                int.from_bytes(bytes[starting_index:ending_index], \"little\")\n",
    "            )\n",
    "        self.client_order_ids = []\n",
    "        for i in range(128):\n",
    "            starting_index = 2184 + i*8\n",
    "            ending_index = 2184 + (i + 1) * 8\n",
    "            self.orders.append(\n",
    "                int.from_bytes(bytes[starting_index:ending_index], \"little\")\n",
    "            )\n",
    "        self.referrer_rebates_accrued = int.from_bytes(bytes[3208:3216], \"little\")\n",
    "    def get_owner(self):\n",
    "        return self.owner"
   ]
  },
  {
   "cell_type": "code",
   "execution_count": 21,
   "metadata": {},
   "outputs": [],
   "source": [
    "# event_queue.py\n",
    "class EventQueueHeader: \n",
    "    def __init__(self, bytes):\n",
    "        self.account_flags = int.from_bytes(bytes[0:8], \"little\")\n",
    "        self.head = int.from_bytes(bytes[8:16], \"little\")\n",
    "        self.count = int.from_bytes(bytes[16:24], \"little\")\n",
    "        self.seq_num = int.from_bytes(bytes[24:32], \"little\")\n",
    "    def __str__(self):\n",
    "        return (\n",
    "            \"Account Flags: \" + str(self.account_flags) + \"\\n\" +\n",
    "            \"Head: \" + str(self.head) + \"\\n\" +\n",
    "            \"Count: \" + str(self.count) + \"\\n\" + \n",
    "            \"Sequence Number: \" + str(self.seq_num) + \"\\n\" \n",
    "        )\n",
    "\n",
    "class Event:\n",
    "    def __init__(self, bytes):\n",
    "        self.event_flags = int.from_bytes(bytes[0:1], \"little\")\n",
    "        self.owner_slot = int.from_bytes(bytes[1:2], \"little\")\n",
    "        self.fee_tier = int.from_bytes(bytes[2:3], \"little\")\n",
    "        padding = []\n",
    "        for i in range(5):\n",
    "            padding.append(int.from_bytes(bytes[3+i:4+i], \"little\"))\n",
    "        self._padding = padding\n",
    "        self.native_quantity_released = int.from_bytes(bytes[8:16], \"little\")\n",
    "        self.native_quantity_paid = int.from_bytes(bytes[16:24], \"little\")\n",
    "        self.native_fee_or_rebate = int.from_bytes(bytes[24:32], \"little\")\n",
    "        self.order_id = int.from_bytes(bytes[32:48], \"little\")\n",
    "        self.owner = PublicKey(bytes[48:80])\n",
    "        self.client_order_id = int.from_bytes(bytes[80:], \"little\")\n",
    "    def __str__(self):\n",
    "        return (\n",
    "            \"Event Flags: \" + str(self.event_flags) + \"\\n\" + \n",
    "            \"Owner Slot: \" + str(self.owner_slot) + \"\\n\" + \n",
    "            \"Fee Tier: \" + str(self.fee_tier) + \"\\n\" + \n",
    "            \"Padding: \" + ', '.join(str(item) for item in self._padding) + \"\\n\" + \n",
    "            \"Native Quantity Released: \" + str(self.native_quantity_released) + \"\\n\" +\n",
    "            \"Native Quantity Paid: \" + str(self.native_quantity_paid) + \"\\n\" + \n",
    "            \"Native Fee or Rebate: \" + str(self.native_fee_or_rebate) + \"\\n\" + \n",
    "            \"Order ID: \" + str(self.native_fee_or_rebate) + \"\\n\" + \n",
    "            \"Owner: \" + ', ' + self.owner + \"\\n\" + \n",
    "            \"Client Order ID: \" + str(self.client_order_id) + \"\\n\"\n",
    "        )\n",
    "\n",
    "class EventAccount:\n",
    "    def __init__(self, bytes):\n",
    "        bytes_without_padding = bytes[5:-7]\n",
    "        header_bytes = bytes_without_padding[0:32]\n",
    "        events_bytes = bytes_without_padding[32:]\n",
    "        self.event_queue_header = EventQueueHeader(header_bytes)\n",
    "        self.events = []\n",
    "        for i in range(self.event_queue_header.count):\n",
    "            starting_index = (self.event_queue_header.head + i) * 88\n",
    "            ending_index = starting_index + 88\n",
    "            self.events.append(Event(\n",
    "                events_bytes[starting_index:ending_index]\n",
    "            ))\n",
    "            \n",
    "    def print_overview(self):\n",
    "        print(self.event_queue_header)\n",
    "        print(\"Number of Events\", len(self.events))\n",
    "        \n",
    "    def print_events(self):\n",
    "        for i in range(self.event_queue_header.count):\n",
    "            print(\"------------ Event Number\", i+1, \"----------\")\n",
    "            print(self.events[i])"
   ]
  },
  {
   "cell_type": "code",
   "execution_count": 22,
   "metadata": {},
   "outputs": [],
   "source": [
    "def process_event(event, wallet_to_volume, client):\n",
    "    # Get owner from Open Orders Account\n",
    "    OPEN_ORDER = PublicKey(event.owner)\n",
    "    account_info = client.get_account_info(OPEN_ORDER)\n",
    "    account_data_raw = base64.b64decode(account_info['result']['value']['data'][0])\n",
    "    open_orders_account = OpenOrdersAccount(account_data_raw)\n",
    "    owner = open_orders_account.get_owner()\n",
    "    \n",
    "    # Process the owner's volume\n",
    "    if owner not in wallet_to_volume:\n",
    "        wallet_to_volume[owner] = 0\n",
    "    #if event.event_flags % 2 == 1:\n",
    "    wallet_to_volume[owner] += event.native_quantity_paid\n",
    "    wallet_to_volume[owner] += event.native_quantity_released"
   ]
  },
  {
   "cell_type": "code",
   "execution_count": 23,
   "metadata": {},
   "outputs": [],
   "source": [
    "grainularity = 2\n",
    "total = 200"
   ]
  },
  {
   "cell_type": "code",
   "execution_count": 24,
   "metadata": {},
   "outputs": [],
   "source": [
    "client = Client(\"https://api.mainnet-beta.solana.com\")\n",
    "EVENT_QUEUE = PublicKey(\"FTtrtEkcJaa84FRBwp7w5fUypBwvMsbNvS3KUD1HL97c\")\n",
    "messages = dict()\n",
    "seen = ordered_set.OrderedSet()"
   ]
  },
  {
   "cell_type": "code",
   "execution_count": 25,
   "metadata": {},
   "outputs": [],
   "source": [
    "for idx in range(total):\n",
    "    account_info = client.get_account_info(EVENT_QUEUE)\n",
    "    account_data_raw = base64.b64decode(account_info['result']['value']['data'][0])\n",
    "    assert len(account_data_raw) == 262156\n",
    "    if account_data_raw not in seen:\n",
    "        messages[idx] = account_data_raw\n",
    "        seen.add(account_data_raw)\n",
    "    time.sleep(grainularity)"
   ]
  },
  {
   "cell_type": "code",
   "execution_count": 26,
   "metadata": {},
   "outputs": [
    {
     "name": "stdout",
     "output_type": "stream",
     "text": [
      "{}\n"
     ]
    }
   ],
   "source": [
    "parsed_accounts = []\n",
    "for raw_account in seen:\n",
    "    parsed_accounts.append(EventAccount(raw_account))\n",
    "\n",
    "num_parsed_accounts = len(parsed_accounts)\n",
    "wallet_to_volume = {}\n",
    "for i in range(num_parsed_accounts - 1):\n",
    "    current_head = parsed_accounts[i].event_queue_header.head\n",
    "    next_head = parsed_accounts[i+1].event_queue_header.head\n",
    "    if current_head < next_head:\n",
    "        difference = next_head - current_head \n",
    "    elif current_head == next_head:\n",
    "        continue    \n",
    "    else:\n",
    "        difference = next_head + 2978 - current_head\n",
    "    print(\"The current head, next head, and difference are\", current_head, next_head, difference)\n",
    "\n",
    "    current_count = parsed_accounts[i].event_queue_header.count\n",
    "    for j in range(min(difference, current_count)):\n",
    "        process_event(parsed_accounts[i].events[j], wallet_to_volume, client)\n",
    "for event in parsed_accounts[-1].events:\n",
    "    process_event(event, wallet_to_volume, client)\n",
    "print(wallet_to_volume)"
   ]
  },
  {
   "cell_type": "code",
   "execution_count": 28,
   "metadata": {},
   "outputs": [
    {
     "data": {
      "text/plain": [
       "1"
      ]
     },
     "execution_count": 28,
     "metadata": {},
     "output_type": "execute_result"
    }
   ],
   "source": [
    "len(parsed_accounts)"
   ]
  },
  {
   "cell_type": "code",
   "execution_count": 31,
   "metadata": {},
   "outputs": [
    {
     "name": "stdout",
     "output_type": "stream",
     "text": [
      "?\n",
      "Account Flags: 17\n",
      "Head: 498\n",
      "Count: 0\n",
      "Sequence Number: 339990\n",
      "\n",
      "Number of Events 0\n"
     ]
    }
   ],
   "source": [
    "for account in parsed_accounts:\n",
    "    print(\"?\")\n",
    "    account.print_overview()\n",
    "    account.print_events()"
   ]
  },
  {
   "cell_type": "code",
   "execution_count": null,
   "metadata": {},
   "outputs": [],
   "source": []
  }
 ],
 "metadata": {
  "kernelspec": {
   "display_name": "Python 3",
   "language": "python",
   "name": "python3"
  },
  "language_info": {
   "codemirror_mode": {
    "name": "ipython",
    "version": 3
   },
   "file_extension": ".py",
   "mimetype": "text/x-python",
   "name": "python",
   "nbconvert_exporter": "python",
   "pygments_lexer": "ipython3",
   "version": "3.7.0"
  }
 },
 "nbformat": 4,
 "nbformat_minor": 2
}
