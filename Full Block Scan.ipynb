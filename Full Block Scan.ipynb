{
 "cells": [
  {
   "cell_type": "code",
   "execution_count": 1,
   "metadata": {},
   "outputs": [],
   "source": [
    "from solana.rpc.api import Client\n",
    "from solana.publickey import PublicKey\n",
    "import base64\n",
    "client = Client(\"https://extend.mainnet.rpcpool.com/30af34cbb7f1e44cf8776c7ecae8\")"
   ]
  },
  {
   "cell_type": "code",
   "execution_count": 2,
   "metadata": {},
   "outputs": [],
   "source": [
    "class EventQueueHeader: \n",
    "    def __init__(self, bytes):\n",
    "        self.account_flags = int.from_bytes(bytes[0:8], \"little\")\n",
    "        self.head = int.from_bytes(bytes[8:16], \"little\")\n",
    "        self.count = int.from_bytes(bytes[16:24], \"little\")\n",
    "        self.seq_num = int.from_bytes(bytes[24:32], \"little\")\n",
    "    def __str__(self):\n",
    "        return (\n",
    "            \"Account Flags: \" + str(self.account_flags) + \"\\n\" +\n",
    "            \"Head: \" + str(self.head) + \"\\n\" +\n",
    "            \"Count: \" + str(self.count) + \"\\n\" + \n",
    "            \"Sequence Number: \" + str(self.seq_num) + \"\\n\" \n",
    "        )\n",
    "\n",
    "class Event:\n",
    "    def __init__(self, bytes):\n",
    "        self.event_flags = int.from_bytes(bytes[0:1], \"little\")\n",
    "        self.owner_slot = int.from_bytes(bytes[1:2], \"little\")\n",
    "        self.fee_tier = int.from_bytes(bytes[2:3], \"little\")\n",
    "        padding = []\n",
    "        for i in range(5):\n",
    "            padding.append(int.from_bytes(bytes[3+i:4+i], \"little\"))\n",
    "        self._padding = padding\n",
    "        self.native_quantity_released = int.from_bytes(bytes[8:16], \"little\")\n",
    "        self.native_quantity_paid = int.from_bytes(bytes[16:24], \"little\")\n",
    "        self.native_fee_or_rebate = int.from_bytes(bytes[24:32], \"little\")\n",
    "        self.order_id = int.from_bytes(bytes[32:48], \"little\")\n",
    "        self.owner = PublicKey(bytes[48:80]).__str__()\n",
    "        self.client_order_id = int.from_bytes(bytes[80:], \"little\")\n",
    "    def __str__(self):\n",
    "        return (\n",
    "            \"Event Flags: \" + str(self.event_flags) + \"\\n\" + \n",
    "            \"Owner Slot: \" + str(self.owner_slot) + \"\\n\" + \n",
    "            \"Fee Tier: \" + str(self.fee_tier) + \"\\n\" + \n",
    "            \"Padding: \" + ', '.join(str(item) for item in self._padding) + \"\\n\" + \n",
    "            \"Native Quantity Released: \" + str(self.native_quantity_released) + \"\\n\" +\n",
    "            \"Native Quantity Paid: \" + str(self.native_quantity_paid) + \"\\n\" + \n",
    "            \"Native Fee or Rebate: \" + str(self.native_fee_or_rebate) + \"\\n\" + \n",
    "            \"Order ID: \" + str(self.native_fee_or_rebate) + \"\\n\" + \n",
    "            \"Owner: \" + str(self.owner) + \"\\n\" + \n",
    "            \"Client Order ID: \" + str(self.client_order_id) + \"\\n\"\n",
    "        )\n",
    "\n",
    "class EventAccount:\n",
    "    def __init__(self, bytes):\n",
    "        bytes_without_padding = bytes[5:-7]\n",
    "        header_bytes = bytes_without_padding[0:32]\n",
    "        events_bytes = bytes_without_padding[32:]\n",
    "        self.event_queue_header = EventQueueHeader(header_bytes)\n",
    "        self.events = []\n",
    "        for i in range(self.event_queue_header.count):\n",
    "            starting_index = ((self.event_queue_header.head + i) % 2978) * 88\n",
    "            ending_index = (starting_index + 88) \n",
    "            self.events.append(Event(\n",
    "                events_bytes[starting_index:ending_index]\n",
    "            ))\n",
    "            \n",
    "    def print_overview(self):\n",
    "        print(self.event_queue_header)\n",
    "        print(\"Number of Events\", len(self.events))\n",
    "        \n",
    "    def print_events(self):\n",
    "        for i in range(self.event_queue_header.count):\n",
    "            print(\"------------ Event Number\", i+1, \"----------\")\n",
    "            print(self.events[i])"
   ]
  },
  {
   "cell_type": "code",
   "execution_count": 3,
   "metadata": {},
   "outputs": [],
   "source": [
    "class OpenOrdersAccount: \n",
    "    def __init__(self, bytes):\n",
    "        # Remove \"serum\" and \"padding\"\n",
    "        bytes = bytes[5:-7]\n",
    "        self.account_flags = int.from_bytes(bytes[0:8], \"little\")\n",
    "        self.market = []\n",
    "        for i in range(32):\n",
    "            self.market.append(int.from_bytes(bytes[8+i:9+i], \"little\"))\n",
    "        self.owner = PublicKey(bytes[40:72]).__str__()\n",
    "        self.native_base_free = int.from_bytes(bytes[72:80], \"little\")\n",
    "        self.native_base_total = int.from_bytes(bytes[80:88], \"little\")\n",
    "        self.native_quote_free = int.from_bytes(bytes[88:96], \"little\")\n",
    "        self.native_quote_total = int.from_bytes(bytes[96:104], \"little\")\n",
    "        self.free_slot_bits = int.from_bytes(bytes[104:120], \"little\")\n",
    "        self.is_bid_bits = int.from_bytes(bytes[120:136], \"little\")\n",
    "        self.orders = []\n",
    "        for i in range(128):\n",
    "            starting_index = 136 + i*16\n",
    "            ending_index = 136 + (i + 1) * 16\n",
    "            self.orders.append(\n",
    "                int.from_bytes(bytes[starting_index:ending_index], \"little\")\n",
    "            )\n",
    "        self.client_order_ids = []\n",
    "        for i in range(128):\n",
    "            starting_index = 2184 + i*8\n",
    "            ending_index = 2184 + (i + 1) * 8\n",
    "            self.orders.append(\n",
    "                int.from_bytes(bytes[starting_index:ending_index], \"little\")\n",
    "            )\n",
    "        self.referrer_rebates_accrued = int.from_bytes(bytes[3208:3216], \"little\")\n",
    "        \n",
    "    def __str__(self):\n",
    "        return (\n",
    "            \"Accounts Flags: \" + str(self.account_flags) + \"\\n\" + \n",
    "            \"Market: \" + ', '.join(str(item) for item in self.market) + \"\\n\" + \n",
    "            \"Owner: \" + str(self.owner) + \"\\n\" + \n",
    "            \"Native Base Free: \" + str(self.native_base_free) + \"\\n\" + \n",
    "            \"Native Base Total: \" + str(self.native_base_total) + \"\\n\" + \n",
    "            \"Native Quote Free: \" + str(self.native_quote_free) + \"\\n\" + \n",
    "            \"Native Quote Total: \" + str(self.native_quote_total) + \"\\n\" + \n",
    "            \"Free Slot Bits: \" + str(self.free_slot_bits) + \"\\n\" + \n",
    "            \"Is Bid Bits: \" + str(self.is_bid_bits) + \"\\n\" + \n",
    "            \"Orders: \" + ', '.join(str(item) for item in self.orders) + \"\\n\" + \n",
    "            \"Client Order IDs: \" + ', '.join(str(item) for item in self.client_order_ids) + \"\\n\" +\n",
    "            \"Referer Rebates Accrued: \" + str(self.referrer_rebates_accrued)\n",
    "        )\n",
    "    \n",
    "    def get_owner(self):\n",
    "        return self.owner\n",
    "    \n",
    "    def toJSON(self):\n",
    "        return json.dumps(self, default=lambda o: o.__dict__, \n",
    "            sort_keys=True, indent=4)"
   ]
  },
  {
   "cell_type": "code",
   "execution_count": 4,
   "metadata": {},
   "outputs": [],
   "source": [
    "blocks = []\n",
    "for block_num in range(137035226 - 100, 137035226 + 1):\n",
    "    confirmed_block = client.get_confirmed_block(block_num)\n",
    "    blocks.append(confirmed_block)"
   ]
  },
  {
   "cell_type": "markdown",
   "metadata": {},
   "source": [
    "From parsing the two open orders accounts, CmFyxKyGG9x9jro7QqRAo6ejEg4QJNboqmgAvpCQ74hG and cwZmnbvcFr4nL7bhmqqcuxNzmKtdG6Te17ZLcRsj4xv, we know our's and Alameda's wallet addresses respectively: 5xoBq7f7CDgZwqHrDBdRWM84ExRetg4gZq93dyJtoSwp and CuieVDEDtLo7FypA9SbLM9saXFdb1dsshEkyErMqkRQq. We can filter the transactions in the blocks for these wallets. By analyzing the behaviour we want to determine the following\n",
    "\n",
    "1. What is the through put of Alameda's orders? To our understanding not all fills/cancels make it to the chain and some are dropped (we weren't able to find some of Jump's cancels on the chain using sol scan)\n",
    "2. Find the corresponding transactions for our trading behaviour. Look at our volume. "
   ]
  },
  {
   "cell_type": "code",
   "execution_count": 5,
   "metadata": {},
   "outputs": [],
   "source": [
    "# Taking a look at Alameda's behaviour\n",
    "alameda_transactions = []\n",
    "jump_transactions = []\n",
    "both_transactions = []\n",
    "both_transactions2 = []\n",
    "for block in blocks:\n",
    "    if 'result' not in block:\n",
    "        continue\n",
    "    transactions = block['result']['transactions']\n",
    "    block_time = block['result']['blockTime']\n",
    "    for transaction in transactions: \n",
    "        if '5xoBq7f7CDgZwqHrDBdRWM84ExRetg4gZq93dyJtoSwp' in transaction['transaction']['message']['accountKeys']:\n",
    "            jump_transactions.append(transaction)\n",
    "        if 'CuieVDEDtLo7FypA9SbLM9saXFdb1dsshEkyErMqkRQq' in transaction['transaction']['message']['accountKeys']:\n",
    "            alameda_transactions.append(transaction)\n",
    "        if 'cwZmnbvcFr4nL7bhmqqcuxNzmKtdG6Te17ZLcRsj4xv' in transaction['transaction']['message']['accountKeys'] and\\\n",
    "            'CuieVDEDtLo7FypA9SbLM9saXFdb1dsshEkyErMqkRQq' in transaction['transaction']['message']['accountKeys']:\n",
    "            both_transactions.append(transaction)\n",
    "        if '5xoBq7f7CDgZwqHrDBdRWM84ExRetg4gZq93dyJtoSwp' in transaction['transaction']['message']['accountKeys'] and\\\n",
    "            'CmFyxKyGG9x9jro7QqRAo6ejEg4QJNboqmgAvpCQ74hG' in transaction['transaction']['message']['accountKeys']:\n",
    "            both_transactions2.append(transaction)"
   ]
  },
  {
   "cell_type": "code",
   "execution_count": 9,
   "metadata": {},
   "outputs": [
    {
     "data": {
      "text/plain": [
       "103"
      ]
     },
     "execution_count": 9,
     "metadata": {},
     "output_type": "execute_result"
    }
   ],
   "source": [
    "len(both_transactions)"
   ]
  },
  {
   "cell_type": "code",
   "execution_count": 10,
   "metadata": {},
   "outputs": [
    {
     "data": {
      "text/plain": [
       "118"
      ]
     },
     "execution_count": 10,
     "metadata": {},
     "output_type": "execute_result"
    }
   ],
   "source": [
    "len(both_transactions2)"
   ]
  },
  {
   "cell_type": "code",
   "execution_count": 8,
   "metadata": {},
   "outputs": [
    {
     "data": {
      "text/plain": [
       "103"
      ]
     },
     "execution_count": 8,
     "metadata": {},
     "output_type": "execute_result"
    }
   ],
   "source": [
    "len(both_transactions)"
   ]
  },
  {
   "cell_type": "code",
   "execution_count": 23,
   "metadata": {
    "scrolled": false
   },
   "outputs": [
    {
     "name": "stdout",
     "output_type": "stream",
     "text": [
      "3yQ1aWUjdiwKxbfQeKrYnvQhscW1BKcfnV4X7xyTcZpCYiLy1VvYQQmM9oNDhynAjCbkCWhQjBHZr4gSqtRvzUQD\n",
      "2hZtqqq99AkPkPmu9iytp8Bzzn2Bx8A2YThrwbb3DMj8gcTnKW5i1Ev1vGkizQVqJCG6vQkTiLuW6JLt6iUghcHd\n",
      "25QhMsCCYUVYtufaGSEdpxtxtE5wBso8w1jRrYXZNLMqJSkDEt7VDy1LZWZcJaSaHGLtPkFUHYog6vPswdo9XWTb\n",
      "3C3pwo8SS7nGaykZ5wa4N8uoxhnoG5PWLJYSVqCs85dpgw3E2ZnUXoQxxWd4WsbwRxxsVvtjcF1mTKdNz8HAWFth\n",
      "65UphJ6d3QNc5MJcKanJeT84QYHAC1CVxRG19iHd9U5j3GZXSyDbkx7S7K9WYbdbU584YBhP7LbEDPr1JNfmTA31\n",
      "2ght6XJ9WBj1WaSCrRTf23y5pgU1kpUjoesf9PwRLT7Q2UW7EbHt3F6pmcv2YwKgQg5PPFpufiRCXdCt8tttPkdP\n",
      "4jv9mpPxb1RwWX8gNtvXPDauwsLr3hjw1WBk6qtSgLVzpkC7uH36WUSUoAuqyHHFbR9Pp3BdaAHiL4Jn3AtZ2ama\n",
      "2qCJQt88LMa8hYnzZurAJwqdv6WEdgXHQBXdB5EeifKaG8kme2GsNPomo2azUYRxxga4UReBoSvWt84xoAQGsHFy\n",
      "QCQH33UXhTkFEy14PRn44xVoMr7a46h9Xt7bohkgp9v7LQdNq1FPtuxKAbr41fKP4nHyzZUaZ7b1vWfcDnGiDBW\n",
      "4KzWq5r18askQWJioyvFEQyeAGmHAuinJoKGTT4RoAAGj5ZVw5GWefm5i1M4yiTRCq9dujAsv38ZTjCY3f2BmBcR\n",
      "3WtyhmFcM1DFwjKq3b3UZKHFD822TuJfNLLfgnxDiFNnov5R3QhZY33C8onGhGKUs5WzggYd2CepBtnPbMAQQsUw\n",
      "5yPSDXB8woSG3muNFQAQB7AfrncX9Ab5WjbokDsipcTyyfHSMYjCuKYcEahK9Jvkt97XWUQXGN37sA5YpQdZio7K\n",
      "36Q8wqyj4uNm2SaRG5kjemnE9EnW7tzoSxSvDTwBWB3Zn28aJsmrcaQ4PhhoGBe11nSXwnq9oVjGiLDv7ZEwR14R\n",
      "XLbTmA43aE5T5af3dgnsb7MkX1Gn2biWGiJH93qebwMJTbi2XVArrnKpv2r8sN8TBt4oCEDjDWETeKW6ksJtzGM\n",
      "qqBTapVcQdT5hzg3CSH5c7ckpA9MGdLBYdbsrNdS6ZzMrcRSDNtH5Jswciz7xUh5Df6BnLLnTt923x3XHAAVdLY\n",
      "2T93tGxYpzyDoBKYPnHQbwnsuEaL1XEgeN7ajQcu8x4r1AZm1Rb3ubyshzNVwEFgvBhivvXLQkf81XcXMCZ5Ywt3\n",
      "5eFrymSDeR5oeRU2CAo9tMUYRneoksFBgJeT6gpzNeiZsy2gPujFUEx7Q9FZoVkuxLnHKNwvfxoUsu9pJqUv8Caz\n",
      "Gccn2Uprr2Z9yhN7yNMzcYD5tTG6aEcnPphAa64q1Kh91cepThPMVcaxYyB21wdi2J4AL9rMUHzDCZeHFwiBHdy\n",
      "5yowx9LsjioPWnk1HdTt6y41rPBb13v7n6XPW3c51jpnzt4d1ow4EGD5kMWpCsdmHCykXp5ZuAqddbR1xTeMCmSP\n",
      "4LT5Qk9u7ksi76qrkL67fw5K9okhYNQFzo6PzzGSDe4ewwWVPuFQEs3YuV7hTtjqcuTVKgkhos2SpAAEr3XbKdUe\n",
      "nZqRGwVvAZAsgdVzuJZQ1ghmn8pxyx5wgtZpiWgr3zpF1srZPW8wyibMHRLdGQBLxnaFkgtuBmwkgjmpsn8rDr2\n",
      "3njKCWoNwBE1xcYfJwhqj8xiScy4HmvXTh1Jy69JXSsPyAqXaaquTy64LTHgP9TF5ANzyqSM93eGKSrUB4CR41Bp\n",
      "A934rq8u7o3sL8FE6jpJjUKpSR2CyKEn7mcL39qAAQ5PX1EanEzVweRjo81KBzr4rzGekvwwMbYF1bf25JTrAL9\n",
      "4TCPo1HK3RmMMtVDpbejueKgy1d8mh5WpByCFttCN4P3iaTMK7FZYvMQpaTg5NdNeWb5SRBDocczuoxuC7KhBWoy\n",
      "ZuJXiqStvzsN74zMEWBzm7ZAGJ3yDxFco6dMpJYFgDoeUzMEpSxKpfSfTf19s78fsvTGt4T1bJgbqaktQCJMjDW\n",
      "4WtRaAYFmGyPpjhZDYAJu8rs8Rqdky8WpwpJsc7wodi3bZTgU4PxE9suUxRBm7TA18dEC6KE4EYHrU1mTCPGEUSW\n",
      "y8Su6bGEbXvebcdogEmAuzo9MiCru5ddVJgvpJMdJxo6XUvNkGC6iJnzG5VqrZ5Aacuv8esAMFZrtmrxX6qEKUt\n",
      "3x4hzyqKzFwmRKvvEdFyU5jwd7cGzX1cduVoLa9Zeq6EMAXWrLmjZgqjmeVwCBTqq4XDniEeQJkTtLUB6YhFjqCR\n",
      "3KpW7TepvDtaio8oBUCeAWA5fQBHSgbTgsYXjvHZAXkRVU8aA3JozzSMGkZmSVxBHaN3CF8EJGvyejnYR8LzSVE9\n",
      "5NrwPWndAHkuihN3z4ZN1Fg6eokacUdYTSsNksvvRJmfRcibFw3D1bV6kmSpZzhZwKEhDsjAU4A5hMS1ZAgCahDu\n",
      "62Wz8WRKsA2CBR9wax9YDGJL7hwTJKMGKTvobMxDUMrvVcj1BTHrmujxujfB6EtgonZq1oZ7u5Fcb5UkDWxUD3Gp\n",
      "4ufq7ZiTdttGSQUCnin1mGmY1DtMaPrcVaiK7FYubisCaZ98mN5JSkj7wnxwL6LiCrsA399T94JidFUC6hqeHbqN\n",
      "5rFJuSn7sKEn1QBLtzB31iVpo8EBE4NF1VXxfyVe4zWRLxgvuKBXR7Ng3mCgf9ABSdtum7KJLAGfo6c3g7DnxpC4\n",
      "5MGjHPHnTe9zn28EQ2iTBM1bSMcRapZd8R8Ezw1xy6f5XVi1AKbBZKyEc2d5ZmCp2qKeig1nbMUxUwm6uYCd7GKG\n",
      "4PsugrXL43RHw8TJLhuJLbwp3kPnfti3Fs13SpzWs6RLPiDdwXzwhxN6QTFyBAE74ggUZQ88ieHwsJX3vvm7QTU7\n",
      "5mzrrybWu9pGStg5gZPPfaTPaxK2JK4NGKkabZENr45F2dkeKnDhnteTnhQUcUEqY2grKmu4gazdmgiXqZVXBxBJ\n",
      "5aDvY2c36vQDfncGtsU6kp4QoSH2CkXaegSCAB6FRaHXUwiWqsz92p98CD6abRJwvuaDa4xakLmy9TnMzgZn8cc4\n",
      "3xRWABELPvDnx48KPNpPVfnP5x9KGwRACSzNWL2DGq922jJvNXv5Qs4wFM4CLAGefwSRpdqhdEEFxqgAnHgH38Sv\n",
      "5QwukVTLkYz7fMyS7e5a8hARQAvkRRHoG9fG9vPy3XcTvKv13BdKmCLspPe27LwKBGMMNiViMLMHxkc5nvg2KkTT\n",
      "3xToZz4Lof2ovbc5rygjBmrgZ5huE1s3VcM1sB4KxENAogQx6VfqAmJnwj8CbSBVrrcutSSv2dJMuVLQPNFkXUgD\n",
      "29gvB1UX6kdh1MXU1cgPGhNVQjwF4bgeUFwgdCHGi2Xv5Fx6yXd9icuKpLnTmKg3F3niNVm2YJ5WjePMskbSRLJq\n",
      "Hs7c4g5KDwTsQnSVkzVK34XJPcH5Kk97fB9Kg6Gco2Ed8MzAiijtNsRgZ64jtiyMBxuvDGe4eUusz6PnNWURCEx\n",
      "5gdEKn6PKmcLpPdJvK23YduK6Vt8CBdK5NJn6AjB9ow4tQRJ3G3WJV4s38cirTLMGhYUFXt9LSge4fQN4AFqJ9N4\n",
      "3WXSAo47fBHa21NZNH5d815oFFCCPGkRTLzxvomrxAMtJ8rw6uRy2KECabtXQ5xvaUbJJ4sJtHGGY3qUrizf3SsW\n",
      "5AiNJeCvmGqSev3jaRhAFhe7RurKTRDH5h7V9yMTSd6moQZLuQkh1Ro7fyWDC8t6RZWjpnUwB6Di3XBtquEfHbFM\n",
      "3aQseDajhSD81dciQwQGtbA2NZoJSzVJJER6izY2QMoidcSXgsxCtmW8xWwbW4aB7UEeUUDxatcCJA3aNaGm522h\n",
      "4fYLGsTdEhm2sAXM4KD9HiEDPbMXNrWwUWpMnzauvCmJ3YzmCXB7mkFu6r5UF1c73ixUnf3NiVovnGQx7rJByVbj\n",
      "2SDwPCFscfqUpbznRyMCsdW11xC9kqYpHzmji2qjec5xqnz91C87QNakJM76X27iN4CbPYzV3SQRCUAmc5CVXsKc\n",
      "2ABVsQTfw95RVvg6F4kVKnu4hFda4tnni68HHUgVeyfwejdysYARUHuysdhns5misiDDqoFuHFv1e6jtjSrYG9Wu\n",
      "4omPZce7HgbEkryGwzomtMZYv3fQYQ3Bm346J14NB4mLGFY8JKmHyFv7324iD3y7S8wZV2ih1t5pKLNyQHcGSKKx\n",
      "5DTafzBK3VMspTz3uNqDBrwYGCnt73Qnc79aMgy9HPncurbCMtBnSJhQ5vJm6V56zcc2KykZpMkFt8V5rnr97TGk\n",
      "4fqe1uZnU3ynGLFyfVV1KY5ySH8GVmtpCv6wxVhL9ej3RMYRVZkLXriXbNgh2d4XDbGY11Nm2cDBTj6HuZDGtBKa\n",
      "5GYesy79GkXtp1sgdpnEdpLL3hGC2ZgsJXBMbqRk36XrSeASzgedqJPYiHb5VPFkFyQd7hgngWvfcADCwJFJYiFo\n",
      "5c8eP9u5u1oVPwihgtN93ku8YGDfMaFAEKJ6cZaMDP8gq9GJF5F6dZi31a7i6x5x5QiVyFWurzg6x5Bh6QoXGFkV\n",
      "hbGuLYsd6xk7UfxUTRtCWjHGMGwiYyYseiMLaqyNQRinwi8WabNDNAbEfAxtJdv57oPazFkZRiMSAr3qCGQqqvz\n",
      "2pSeMb8VT72ywrdF38ECZGnNzbtrdcvmqVKLjhUbTjtV2ukoPzmv9b6jPiKZAizcwQP1tFpJGyQsZfa8mkaYFuKk\n",
      "2Q6vBH2j32KByYheHqeAnt5hXFLPBk1dJ7fMBwKH9QDXSHvWDB7XzRqCdP6dC9n4vciUNEdZDgMfCoja2CVhWCjw\n",
      "61Zcvw2ZFCQ8JGeBkUxMvbGRN74sZ91cr6VW6oR1JRQ39bHgCpfPzdrRGXA1DViT9V1upnoK6JvGFiNhG6ojwPQh\n",
      "2zzLLKz2N6W4qLc4uG7p8jjSicvvcZxpGoDy5Aw5JhkXD1wce5bP68BiPzqEFQktx743kmkz9XWTUbUKVe1Vyg4b\n",
      "2L2bjVATSTikZR7As67wYCNHJtQK7YKKoXFPCKAJg5N5imHqddBFxpxGSJGXxxd79Asq4UTyxtAARuSmY8JJnNcf\n",
      "2w2mYnWP2zMfCLMidtAygjnYAvxowkP528G9mP9U4T71icQCFkSQZ9jMvbERT31Y9oAKxcb21m6DmtuKcDpko2Ya\n",
      "5Lu37qzKrsB4R7cXend1DsbP89niSNfnXyW155tuTv6H9V9eVfpZYvNXJ9p9kbh6Ba1jVNcm2FBJm3ST8vvWUDR5\n",
      "aXMwtqyPv7KcXxxrkBd2kgjESeUAEEaSgJx9RcNgqT9BWMLjn1te6PzzRBDt7T9idVkQXtcogQPf7byTkSftvDa\n",
      "4tCAiFGMqWNfpuUHnG9jPR2pyV4XhJE3UienwyJkvYFdTTi8aS1ttmz6srC5LkCFMdJdGYWXGJrwsRYS77qXNKDZ\n",
      "63Rk4L7tLvLxCsM2PgMMwYKYJg36Ep5WWhwMj7tyztaEiPRwpPq3hnfCQDPXUCzBLY8K65mpGGBESnJVgzCr4dyg\n",
      "2NHcCFZQSMWHgJGPA1v7sV7QGc8JCJjRx4M8r3qVdyKdzjissbYRXePuiY6zqbHSHH4XUeRSuLF3gEqBFHLUeQ7X\n",
      "34ToChU8UAZwqGdMDTxjk4cReAA5E2vJrj8y5zgvLuzWF3ChYuCzyRMe1EyAD3sCB9h8HrW79YB1pYGhgfzV7cfm\n",
      "61r29Q6xBZy8pTjPmT1KHWScM3d3Pb87ZfZjyhe9U3jsRpFD8Lec2c5U1ww473KmUjgpFQbeAKKC9jPvHW5cBzaG\n",
      "T5T7iyMvpHBvUnBPeY6NyJK7E1JVcCDWwAprGJKrFpHBdNQro5LG9o3AxvDj73U9A6hZxoFCkRTfmaAojSJSRCP\n",
      "31zyovdrKpNfxxa3VMi1ubKbHYLDJeT4XQnCgTbTpNX8AbpN8GeLcFw7GyRp6i3N35STZ4tkzZ4pSfVBpedRcg6j\n",
      "3f3XJAGiLRGMEumT1VdQSCnTEu1T3xGadwgoCwjK4EucfjokufXtFFcsmoui4NCrhWt8gkZJPotc1pfaxT6RJqzH\n",
      "4t4kvwmBe9b7EohqGxX1KR4grVukQRdozgQ3Y17dmExDHsDwHRusmCbZ5MpFVbr6drLmCcvhGy4PmE7aw1rqhzve\n",
      "5qjGcfecXArCCXkwEn8SYkuhFn526A1vwjpkJSEa9tzJFvvWcinftPZ86H7wWJYmEvX88wLiQqd2c88yse6JgMfP\n",
      "gPVcY2mfh1A5oCyTGxzSyePM7pTnBLNrcuhevcS7oj2wbqDFt35gCynKdWsvTRuk3wgs9HhnCvXkAxoP9KEaBG9\n",
      "3VeyGoM7T8niLcDAC7qt32bK9uSZBQ5wFP3F9Z3VjGcwnNQtcjfkPJDySvKCa24nwfHhBAEjyXiKSM47NTQwvuCq\n",
      "2ewdCVTLG6EvQYGuZVSoMzg3dNUwSyCt9CkEamvRz6L29vW7e9pErcTs9roDeXswTPbva2ewxZnNZwgZcMGp4Hss\n",
      "5hXzJmxsmXGoA6gp6LfesQ24VkRYY3cTUFtnXQPhd76vKP3EUBSTWxigkguirpuZfHtrFw5bkkyGPGsPbBTEo7Bk\n",
      "QNq97MvKs9iKfgZ1PsEhdvF4hEDh9fTBGo4jkSijXCvZb7tA3Ey9RZnUythiVEZhQfP7dw3xHnJj5vkPFFpRXbi\n",
      "3LhTtnrEbvHLNrzBgvZCKXM5xoeUf7vTjAASA6JnYUwQBun1KXmFz8x5KDW94Vhp6t3Qvc7irHWH12QPo7zPpR93\n",
      "5BK3BB15EU1kam2o9kZFFU6iUBBjvxcfaH3gpASXgGxza1t56RTVYgnUgTZ1GuX9bsZq7Yd37wh5d5kCWEXVTbq9\n",
      "s4HNzf9pspJEjC1oeow9rXtxtfCLSULeqypJvJkTVkjGPf84MDhaHAzEfXjkkmYbPj7RT813fJ1CBpppWdkHseu\n",
      "2DVUsfgg5EuaXyDiKZCVDCjGsLjoNFRK7137eT3cD2Qy96citwDWcesTrLaA1Aqgayd2YoBfPB97WwhtBtYey42x\n",
      "4Kx1pY7fzQ8iosL8yhfW6oDJs1VwXXbqn2QRKuRR3udjxoACfZQ292faiEgK3teygY7LGwSjWPiR7sY2ryuN4q36\n",
      "67N7hQ8hzLiLxuctuPkszbzdfpmipGLyrxnn4na8ycNkv5d2vZZURx5ZBEjYZGieTsQ1VvC64VCxmKHRhaU3PGw5\n",
      "4cBB4bAs7of3tHuu2WxUpBHf7MPWt6bZo8x5Mh44VXSgnDfr6jTJLBapHLdLTDiawKM8icUahL9M978U1Cpxdz9A\n",
      "psKak5es2eFjXpZUbqCtVdgWc3ybd3He82HSa45Y1dmxD9qddZX2PmTZFCoZYjm1z8CFLzBwiw5xocSuEze1C6r\n",
      "2U4VW1Gw79HA4jLJWifnPywGf6gFEeodRRm99VuahAJCsCdfcoc3K9jbTfePbMJKa1JEVk4BwGvGdywYNdy41mmi\n",
      "drmDCogUMAACFVJocWmyFsFu621Zdo8hMxhHLsDLspi7CStpCr9YboSQxmraWZHjMLSYaojq4gffwSWqQPWTWVx\n",
      "5WkLKpvbcriu52r12Z6BsUED2VX1gYwKHW6ANiFBtAHuM8c4NaioGgVdmsb6ow46NrvBPR6Mjpimdeqng1PDi8u\n",
      "9nzSop6cA641P7AW1XKZEQt4WawpttLaG9nMyWaEgF2QYysSPbGT41kXBdzrJvTSTLkMY2BsRCjgknij2y8Sy81\n",
      "3RoruW8DQmmzm7A6DfjbfdqDrLjhHFHLA8N3uoXFbfxdDbVJ7b2bquboeZ9i7mK72MnsenvTUcFEK6bY9njsYT9H\n",
      "5hCnBt5KWa5f4PyupVGjwAz9S8yAwN6hRLVNV6fxq9PWsHe988FRjUjRCUnhKECjpAFjsbnLnFEmRzkQmrKuKiCo\n",
      "3e2nHc76chLwxuwkYoqkckPjfiKYg69GVMhnCfiR1DSJZB8XDgrg2VygzGFW93dzVx2iVqTQ7btuAutiiqmUT3cR\n",
      "45yJh8uGJ6P6mFksbjjn3ES9RaLszUBYJHPHL5Zv8a6k4XZJWzBdRJMssvTLSydW8g7834SG8tCkFZ2SPMZMneRV\n",
      "3fmiFTmqxLGHtvNQ2h47R32C39WDMVJfMavBy7GbRS4FEixD95rvW5UZTAesyd3fWZ2KXXcbB2uJeZYPZeFUNEQA\n",
      "4ceMFT6PnBjGnqvYh7WFkEkKn5bWmwQeCYucegnKPF99nX4zWQtV4KVCKcfYW7JqdAuTpBMeLKDDnCkBVGxFaiR\n",
      "4dXmDhSQRQ4dURQmz88vWq3VLysDSgsWokBY81bS4qC9CcxDLuHqsVxiyR9GQsUA94L14Qw2uoc4jEDVgBJXR8fs\n",
      "3CvcWSqrpP1QqBp4hFQ6xsPnPRjC5c3NP9R3T35WBNW5Fb1nfKgWuGFE9bkAEThQsQ4LFrkTrR5u5xmPfG3euq95\n",
      "5ZzVSG9a7Vq1fs8N8QnMt1wpNqshPipb1pniepfFLEznHZrsKiptomrTu5Ejxo5p4sB5b2NsRhA4s5CsvfjRRJYV\n",
      "2JEXkH7zLfHvrM9EVANKPDa2spXgLxqha8MupEGeJ5q5smzLe7PunAGor9AepJh2VohK1sqy8mLV8RVYNELaV33u\n",
      "4ARWBfUmjvn3jcCCMsxoTf6L5tg16ss8fSXqMTLJ4D7DMyHtyjhDuR6Zz9mxay1fNQWCMrLbJqTRfQAHLVVAfZEL\n",
      "2m8BQCSXYP5UvS26pkY2wfRmwamRMWbvthBJbNQegjQ2dBcGqitNyv8pnsNA8tRBbYZe6fp5CGyVRdcwXZ8gZpMS\n",
      "3Xa9jTph9nUxuAVMd6eAX2vzXggQG5JjhDX6ndToc6bVXEPkZ2S4nE6FGayifhd1TEE3Yn7JBMhqwABJLuHk4B5B\n"
     ]
    }
   ],
   "source": [
    "for transaction in both_transactions:\n",
    "    print(transaction['transaction']['signatures'][0])"
   ]
  },
  {
   "cell_type": "code",
   "execution_count": 20,
   "metadata": {},
   "outputs": [
    {
     "data": {
      "text/plain": [
       "158"
      ]
     },
     "execution_count": 20,
     "metadata": {},
     "output_type": "execute_result"
    }
   ],
   "source": [
    "len(both_transactions2)"
   ]
  },
  {
   "cell_type": "code",
   "execution_count": null,
   "metadata": {},
   "outputs": [],
   "source": []
  }
 ],
 "metadata": {
  "kernelspec": {
   "display_name": "Python 3",
   "language": "python",
   "name": "python3"
  },
  "language_info": {
   "codemirror_mode": {
    "name": "ipython",
    "version": 3
   },
   "file_extension": ".py",
   "mimetype": "text/x-python",
   "name": "python",
   "nbconvert_exporter": "python",
   "pygments_lexer": "ipython3",
   "version": "3.7.0"
  }
 },
 "nbformat": 4,
 "nbformat_minor": 2
}
